{
 "cells": [
  {
   "cell_type": "code",
   "execution_count": 1,
   "id": "006ec2a4",
   "metadata": {
    "_cell_guid": "b1076dfc-b9ad-4769-8c92-a6c4dae69d19",
    "_uuid": "8f2839f25d086af736a60e9eeb907d3b93b6e0e5",
    "execution": {
     "iopub.execute_input": "2024-01-24T03:52:44.255211Z",
     "iopub.status.busy": "2024-01-24T03:52:44.254822Z",
     "iopub.status.idle": "2024-01-24T03:52:45.950804Z",
     "shell.execute_reply": "2024-01-24T03:52:45.949519Z"
    },
    "papermill": {
     "duration": 1.70398,
     "end_time": "2024-01-24T03:52:45.953937",
     "exception": false,
     "start_time": "2024-01-24T03:52:44.249957",
     "status": "completed"
    },
    "tags": []
   },
   "outputs": [],
   "source": [
    "import pandas as pd\n",
    "from sklearn.model_selection import train_test_split\n",
    "from sklearn.linear_model import LogisticRegression,LinearRegression\n",
    "from sklearn.metrics import accuracy_score"
   ]
  },
  {
   "cell_type": "code",
   "execution_count": 2,
   "id": "e8081963",
   "metadata": {
    "execution": {
     "iopub.execute_input": "2024-01-24T03:52:45.961517Z",
     "iopub.status.busy": "2024-01-24T03:52:45.961010Z",
     "iopub.status.idle": "2024-01-24T03:52:57.530219Z",
     "shell.execute_reply": "2024-01-24T03:52:57.528844Z"
    },
    "papermill": {
     "duration": 11.576349,
     "end_time": "2024-01-24T03:52:57.533319",
     "exception": false,
     "start_time": "2024-01-24T03:52:45.956970",
     "status": "completed"
    },
    "tags": []
   },
   "outputs": [],
   "source": [
    "df=pd.read_csv('/kaggle/input/credit-card-fraud-detection-dataset-2023/creditcard_2023.csv')"
   ]
  },
  {
   "cell_type": "code",
   "execution_count": 3,
   "id": "3a71c72c",
   "metadata": {
    "execution": {
     "iopub.execute_input": "2024-01-24T03:52:57.541208Z",
     "iopub.status.busy": "2024-01-24T03:52:57.540082Z",
     "iopub.status.idle": "2024-01-24T03:52:58.014311Z",
     "shell.execute_reply": "2024-01-24T03:52:58.013125Z"
    },
    "papermill": {
     "duration": 0.481025,
     "end_time": "2024-01-24T03:52:58.017015",
     "exception": false,
     "start_time": "2024-01-24T03:52:57.535990",
     "status": "completed"
    },
    "tags": []
   },
   "outputs": [],
   "source": [
    "X_train, X_test, y_train, y_test = train_test_split(df.drop('Class', axis=1), df['Class'], test_size=0.2)"
   ]
  },
  {
   "cell_type": "code",
   "execution_count": 4,
   "id": "e40986db",
   "metadata": {
    "execution": {
     "iopub.execute_input": "2024-01-24T03:52:58.023868Z",
     "iopub.status.busy": "2024-01-24T03:52:58.023379Z",
     "iopub.status.idle": "2024-01-24T03:53:00.167424Z",
     "shell.execute_reply": "2024-01-24T03:53:00.166157Z"
    },
    "papermill": {
     "duration": 2.151836,
     "end_time": "2024-01-24T03:53:00.171344",
     "exception": false,
     "start_time": "2024-01-24T03:52:58.019508",
     "status": "completed"
    },
    "tags": []
   },
   "outputs": [
    {
     "name": "stdout",
     "output_type": "stream",
     "text": [
      "The accuracy of the model is 79.02%.\n"
     ]
    }
   ],
   "source": [
    "model1 = LogisticRegression()\n",
    "model1.fit(X_train, y_train)\n",
    "\n",
    "# Predict the labels of the test set\n",
    "y_pred = model1.predict(X_test)\n",
    "\n",
    "# Evaluate the accuracy of the model\n",
    "accuracy = accuracy_score(y_test, y_pred)\n",
    "print(f'The accuracy of the model is {accuracy:.2%}.')"
   ]
  },
  {
   "cell_type": "code",
   "execution_count": 5,
   "id": "d3ccfbf7",
   "metadata": {
    "execution": {
     "iopub.execute_input": "2024-01-24T03:53:00.181923Z",
     "iopub.status.busy": "2024-01-24T03:53:00.181272Z",
     "iopub.status.idle": "2024-01-24T03:53:01.346479Z",
     "shell.execute_reply": "2024-01-24T03:53:01.342481Z"
    },
    "papermill": {
     "duration": 1.174624,
     "end_time": "2024-01-24T03:53:01.350451",
     "exception": false,
     "start_time": "2024-01-24T03:53:00.175827",
     "status": "completed"
    },
    "tags": []
   },
   "outputs": [
    {
     "name": "stdout",
     "output_type": "stream",
     "text": [
      "The accuracy of the model is 79.02%.\n"
     ]
    }
   ],
   "source": [
    "model2 = LinearRegression()\n",
    "model2.fit(X_train, y_train)\n",
    "\n",
    "# Predict the labels of the test set\n",
    "y_pred2 = model2.predict(X_test)\n",
    "\n",
    "# Evaluate the accuracy of the model\n",
    "accuracy2 = accuracy_score(y_test, y_pred)\n",
    "print(f'The accuracy of the model is {accuracy2:.2%}.')"
   ]
  },
  {
   "cell_type": "code",
   "execution_count": null,
   "id": "cc8c690a",
   "metadata": {
    "papermill": {
     "duration": 0.00426,
     "end_time": "2024-01-24T03:53:01.360463",
     "exception": false,
     "start_time": "2024-01-24T03:53:01.356203",
     "status": "completed"
    },
    "tags": []
   },
   "outputs": [],
   "source": []
  }
 ],
 "metadata": {
  "kaggle": {
   "accelerator": "none",
   "dataSources": [
    {
     "datasetId": 3752264,
     "sourceId": 6492730,
     "sourceType": "datasetVersion"
    }
   ],
   "dockerImageVersionId": 30635,
   "isGpuEnabled": false,
   "isInternetEnabled": false,
   "language": "python",
   "sourceType": "notebook"
  },
  "kernelspec": {
   "display_name": "Python 3",
   "language": "python",
   "name": "python3"
  },
  "language_info": {
   "codemirror_mode": {
    "name": "ipython",
    "version": 3
   },
   "file_extension": ".py",
   "mimetype": "text/x-python",
   "name": "python",
   "nbconvert_exporter": "python",
   "pygments_lexer": "ipython3",
   "version": "3.10.12"
  },
  "papermill": {
   "default_parameters": {},
   "duration": 21.051434,
   "end_time": "2024-01-24T03:53:02.298061",
   "environment_variables": {},
   "exception": null,
   "input_path": "__notebook__.ipynb",
   "output_path": "__notebook__.ipynb",
   "parameters": {},
   "start_time": "2024-01-24T03:52:41.246627",
   "version": "2.4.0"
  }
 },
 "nbformat": 4,
 "nbformat_minor": 5
}
